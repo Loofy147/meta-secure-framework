{
 "cells": [
  {
   "cell_type": "markdown",
   "metadata": {},
   "source": [
    "# SACEF Demonstration: Finding CVE-2023-24329\n\n",
    "This notebook demonstrates how the Self-Adversarial Code Evolution Framework (SACEF) can intelligently discover CVE-2023-24329, a real-world vulnerability in Python's `urllib.parse` library."
   ]
  },
  {
   "cell_type": "markdown",
   "metadata": {},
   "source": [
    "## Step 1: Install SACEF\n\n",
    "First, we install the `sacef` package from the parent directory of this notebook."
   ]
  },
  {
   "cell_type": "code",
   "execution_count": null,
   "metadata": {},
   "outputs": [],
   "source": [
    "# Install the sacef package from the local directory\n",
    "!pip install .. --quiet"
   ]
  },
  {
   "cell_type": "markdown",
   "metadata": {},
   "source": [
    "## Step 2: The Vulnerability (CVE-2023-24329)\n\n",
    "The vulnerability lies in how Python's `urlparse` function handles URLs that begin with leading whitespace. Security checks that parse a URL and then check its hostname against a blocklist can be bypassed by simply adding a space or tab before the URL scheme (e.g., `\" http://evil.com\"`).\n\n",
    "We have a simple function in `vulnerable_target.py` that simulates this exact scenario."
   ]
  },
  {
   "cell_type": "code",
   "execution_count": null,
   "metadata": {},
   "outputs": [],
   "source": [
    "from vulnerable_target import is_blocked\n",
    "import inspect\n\n",
    "print(\"--- Vulnerable Function Source ---\")\n",
    "print(inspect.getsource(is_blocked))"
   ]
  },
  {
   "cell_type": "markdown",
   "metadata": {},
   "source": [
    "Let's demonstrate the exploit manually. A correctly formatted URL is blocked, but the one with a leading space bypasses the check."
   ]
  },
  {
   "cell_type": "code",
   "execution_count": null,
   "metadata": {},
   "outputs": [],
   "source": [
    "print(\"Running with a standard blocked URL...\")\n",
    "is_blocked(\"http://evil.com\")\n\n",
    "print(\"\\nRunning with the exploit (leading space)...\")\n",
    "is_blocked(\" http://evil.com\")"
   ]
  },
  {
   "cell_type": "markdown",
   "metadata": {},
   "source": [
    "## Step 3: How SACEF Intelligently Finds the Vulnerability\n\n",
    "This is where SACEF's advanced features shine. A simple random fuzzer would have a very low chance of discovering this specific vulnerability. SACEF is different:\n\n",
    "1.  **ML Prediction**: The `MLVulnerabilityPredictor` analyzes the `is_blocked` function. It sees the code complexity from the `if` statement and suggests a `'logic_bypass'` strategy to the fuzzer.\n",
    "2.  **Concolic Execution**: The `SymbolicPathExplorer` is the key. It traces the code with a valid input like `\"http://evil.com\"`. It sees the condition `if parsed_url.hostname == blocked_domain:` and understands that to explore the *other path* (where the check returns `False`), it needs to find an input where `parsed_url.hostname` is *not* equal to `\"evil.com\"`. The Z3 solver can easily find a model for this, and one of the simplest solutions it can generate is by altering the input string slightly, for example, by adding a leading space: `\" http://evil.com\"`.\n",
    "3.  **Guided Fuzzing**: This new, intelligently-generated input is added to the `GeneticFuzzer`'s population. The fuzzer then runs, confirms that this input is a vulnerability, and reports it."
   ]
  },
  {
   "cell_type": "markdown",
   "metadata": {},
   "source": [
    "## Step 4: Running SACEF\n\n",
    "SACEF is designed to find crashes and unhandled exceptions. To make it work for this logic bug, we'll create a simple wrapper function. This wrapper will call our `is_blocked` function and raise a custom `BypassFound` exception if the security check is bypassed. SACEF will then find the input that causes this exception."
   ]
  },
  {
   "cell_type": "code",
   "execution_count": null,
   "metadata": {},
   "outputs": [],
   "source": [
    "from sacef.framework import SelfAdversarialFramework\n",
    "from vulnerable_target import is_blocked\n\n",
    "# A custom exception to signal that our check was bypassed\n",
    "class BypassFound(Exception):\n",
    "    pass\n\n",
    "# The wrapper function for SACEF to analyze\n",
    "def sacef_target_wrapper(url: str):\n",
    "    if not isinstance(url, str) or \"evil.com\" not in url:\n",
    "        return # We only care about malicious-looking strings\n",
    "        \n",
    "    # If the check is bypassed, raise an exception that SACEF can detect\n",
    "    if is_blocked(url) is False:\n",
    "        raise BypassFound(\"Security check was bypassed!\")\n\n",
    "# Instantiate the full SACEF framework\n",
    "framework = SelfAdversarialFramework()\n\n",
    "print(\"Running SACEF with ML-Guided Concolic Fuzzing...\")\n",
    "# verbose=False keeps the output clean for the notebook\n",
    "result = framework.analyze_function(sacef_target_wrapper, verbose=False)\n\n",
    "print(f\"\\n--- SACEF Analysis Complete ---\")\n",
    "print(f\"Vulnerabilities Found: {result['vulnerabilities']}\")\n\n",
    "if result['vulnerabilities'] > 0:\n",
    "    print(\"\\n[!!!] SACEF discovered the bypass!\")\n",
    "    # Print the details of the vulnerabilities SACEF found\n",
    "    for vuln in framework.vulnerabilities:\n",
    "        print(f\"    Discovered Payload: {vuln.exploit_code}\")\n",
    "else:\n",
    "    print(\"\\n[-] SACEF did not find the bypass in this run. This can happen due to randomness, try running again!\")"
   ]
  },
  {
   "cell_type": "markdown",
   "metadata": {},
   "source": [
    "## Conclusion\n\n",
    "As you can see, SACEF successfully found a payload that bypasses the security check. It didn't just stumble upon it randomly; it used symbolic execution to logically deduce an input that would explore a different code path, leading it directly to the vulnerability."
   ]
  }
 ],
 "metadata": {
  "kernelspec": {
   "display_name": "Python 3",
   "language": "python",
   "name": "python3"
  },
  "language_info": {
   "name": "python",
   "version": "3.10.12"
  }
 },
 "nbformat": 4,
 "nbformat_minor": 2
}
